{
 "cells": [
  {
   "cell_type": "code",
   "execution_count": 1,
   "metadata": {},
   "outputs": [
    {
     "name": "stdout",
     "output_type": "stream",
     "text": [
      "  College Course                     LO  \\\n",
      "1      AH  AH110         primarysources   \n",
      "2      AH  AH110     historicalargument   \n",
      "3      AH  AH110          evidencebased   \n",
      "4      AH  AH110     historicalsilences   \n",
      "5      AH  AH110  historicalperspective   \n",
      "\n",
      "                                              Rubric  \\\n",
      "1  https://forum.minerva.edu/app/outcome-index/le...   \n",
      "2  https://forum.minerva.edu/app/outcome-index/le...   \n",
      "3  https://forum.minerva.edu/app/outcome-index/le...   \n",
      "4  https://forum.minerva.edu/app/outcome-index/le...   \n",
      "5  https://forum.minerva.edu/app/outcome-index/le...   \n",
      "\n",
      "                                         Description  \n",
      "1  Locate, contextualize, and close-read historic...  \n",
      "2  Construct a historical argument based on prima...  \n",
      "3  Identify and appropriately structure the infor...  \n",
      "4  Identify and analyze silences and marginalized...  \n",
      "5  Identify and analyze the assumptions and biase...  \n"
     ]
    }
   ],
   "source": [
    "import pandas as pd\n",
    "\n",
    "# Load CSV file into a pandas dataframe\n",
    "df = pd.read_csv('LOs.csv')\n",
    "df = df.drop('Last Update', axis=1)\n",
    "df = df.dropna(thresh=4)\n",
    "df.rename(columns={'LO (please exclude the hashtag)': 'LO'}, inplace=True)\n",
    "# Print the contents of the dataframe\n",
    "print(df.head())\n",
    "\n",
    "df.to_csv('LOs_cleaned.csv', index=False)\n",
    "\n"
   ]
  },
  {
   "cell_type": "code",
   "execution_count": null,
   "metadata": {},
   "outputs": [],
   "source": []
  }
 ],
 "metadata": {
  "kernelspec": {
   "display_name": "Python 3",
   "language": "python",
   "name": "python3"
  },
  "language_info": {
   "codemirror_mode": {
    "name": "ipython",
    "version": 3
   },
   "file_extension": ".py",
   "mimetype": "text/x-python",
   "name": "python",
   "nbconvert_exporter": "python",
   "pygments_lexer": "ipython3",
   "version": "3.9.9"
  },
  "orig_nbformat": 4
 },
 "nbformat": 4,
 "nbformat_minor": 2
}
